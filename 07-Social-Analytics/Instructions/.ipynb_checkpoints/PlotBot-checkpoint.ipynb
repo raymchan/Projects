{
 "cells": [
  {
   "cell_type": "code",
   "execution_count": 1,
   "metadata": {},
   "outputs": [],
   "source": [
    "# Dependencies\n",
    "import tweepy\n",
    "import json\n",
    "import time\n",
    "import numpy as np\n",
    "import pandas as pd\n",
    "from config import consumer_key, consumer_secret, access_token, access_token_secret\n",
    "from datetime import datetime\n",
    "import matplotlib.pyplot as plt\n",
    "from pprint import pprint\n",
    "from matplotlib import style\n",
    "style.use('ggplot')\n",
    "\n",
    "# Import and Initialize Sentiment Analyzer\n",
    "from vaderSentiment.vaderSentiment import SentimentIntensityAnalyzer\n",
    "analyzer = SentimentIntensityAnalyzer()\n",
    "\n",
    "# Twitter API Keys\n",
    "consumer_key = consumer_key\n",
    "consumer_secret = consumer_secret\n",
    "access_token = access_token\n",
    "access_token_secret = access_token_secret\n",
    "\n",
    "# Setup Tweepy API Authentication\n",
    "auth = tweepy.OAuthHandler(consumer_key, consumer_secret)\n",
    "auth.set_access_token(access_token, access_token_secret)\n",
    "api = tweepy.API(auth, parser=tweepy.parsers.JSONParser())\n",
    "\n"
   ]
  },
  {
   "cell_type": "code",
   "execution_count": 5,
   "metadata": {},
   "outputs": [
    {
     "name": "stdout",
     "output_type": "stream",
     "text": [
      "Please enter the Twitter handle (including @ for example @CNN): @RayyNoodles\n"
     ]
    },
    {
     "ename": "KeyboardInterrupt",
     "evalue": "",
     "output_type": "error",
     "traceback": [
      "\u001b[0;31m---------------------------------------------------------------------------\u001b[0m",
      "\u001b[0;31mKeyboardInterrupt\u001b[0m                         Traceback (most recent call last)",
      "\u001b[0;32m<ipython-input-5-e468742caab8>\u001b[0m in \u001b[0;36m<module>\u001b[0;34m()\u001b[0m\n\u001b[1;32m     22\u001b[0m         \u001b[0mrunTweetFunc\u001b[0m\u001b[0;34m(\u001b[0m\u001b[0mtargetinput\u001b[0m\u001b[0;34m,\u001b[0m \u001b[0msn\u001b[0m\u001b[0;34m)\u001b[0m\u001b[0;34m\u001b[0m\u001b[0m\n\u001b[1;32m     23\u001b[0m \u001b[0;34m\u001b[0m\u001b[0m\n\u001b[0;32m---> 24\u001b[0;31m     \u001b[0mtime\u001b[0m\u001b[0;34m.\u001b[0m\u001b[0msleep\u001b[0m\u001b[0;34m(\u001b[0m\u001b[0;36m300\u001b[0m\u001b[0;34m)\u001b[0m\u001b[0;34m\u001b[0m\u001b[0m\n\u001b[0m",
      "\u001b[0;31mKeyboardInterrupt\u001b[0m: "
     ]
    },
    {
     "data": {
      "image/png": "[encoded data removed]",
      "text/plain": [
       "<matplotlib.figure.Figure at 0x1100e1e10>"
      ]
     },
     "metadata": {},
     "output_type": "display_data"
    }
   ],
   "source": [
    "handles = []\n",
    "#Ask for user to input twitter user name\n",
    "targetinput = input('Please enter the Twitter handle (including @ for example @CNN): ')\n",
    "check = 0\n",
    "\n",
    "#Check if username has been used\n",
    "for x in handles:\n",
    "    if targetinput==x:\n",
    "        handles.append(targetinput)\n",
    "        check=1\n",
    "\n",
    "#Loop five minutes checking for any mentions\n",
    "while(check==0):\n",
    "    mentions = api.search(targetinput, count = 10, results_type=\"recent\")\n",
    "    for tweet in mentions['statuses']:\n",
    "#       pprint(mention)\n",
    "        sn = tweet['user']['screen_name']\n",
    "    \n",
    "    if len(mentions)!=0:\n",
    "        runTweetFunc(targetinput, sn)\n",
    "        \n",
    "    time.sleep(300)"
   ]
  },
  {
   "cell_type": "code",
   "execution_count": 2,
   "metadata": {},
   "outputs": [],
   "source": [
    "#Create Function to Call this\n",
    "def runTweetFunc(temp_target, name):\n",
    "\n",
    "    # Target Search Term\n",
    "    target = temp_target\n",
    "    name = name\n",
    "    counter=1\n",
    "\n",
    "    # Variable for holding the oldest tweet\n",
    "    oldest_tweet = None\n",
    "\n",
    "    results_list = []\n",
    "\n",
    "    for x in range(25):\n",
    "\n",
    "        # Run search around each tweet\n",
    "        public_tweets = api.user_timeline(target, max_id=oldest_tweet)\n",
    "\n",
    "        # Loop through all tweets\n",
    "        for tweet in public_tweets:\n",
    "\n",
    "\n",
    "            # Run Vader Analysis on each tweet\n",
    "            results = analyzer.polarity_scores(tweet[\"text\"])\n",
    "            compound = results[\"compound\"]\n",
    "            pos = results[\"pos\"]\n",
    "            neu = results[\"neu\"]\n",
    "            neg = results[\"neg\"]\n",
    "            tweets_ago=counter\n",
    "\n",
    "            # Set the new oldest_tweet value\n",
    "            oldest_tweet = tweet[\"id\"] - 1\n",
    "\n",
    "            counter += 1\n",
    "\n",
    "            # Store the Average Sentiments\n",
    "            sentiment = {\n",
    "                \"User\": target,\n",
    "                \"Date\":tweet[\"created_at\"],\n",
    "                \"Compound\": compound,\n",
    "                \"Positive\": pos,\n",
    "                \"Neutral\": neu,\n",
    "                \"Negative\": neg,\n",
    "                \"Tweets Ago\": counter\n",
    "                }\n",
    "\n",
    "    # Print the Sentiments\n",
    "    # print(sentiment)\n",
    "    # print()\n",
    "\n",
    "            results_list.append(sentiment)\n",
    "\n",
    "    # Create DataFrame from Results List\n",
    "    results_df = pd.DataFrame(results_list)\n",
    "    results_df\n",
    "\n",
    "        # Create plot\n",
    "    x_val=results_df[\"Tweets Ago\"]\n",
    "    y_val=results_df[\"Compound\"]\n",
    "    plt.plot(x_val,y_val, marker='o')\n",
    "\n",
    "    # # Incorporate the other graph properties\n",
    "    now = datetime.now()\n",
    "    now = now.strftime(\"%Y-%m-%d %H:%M\")\n",
    "    plt.title(f\"Sentiment Analysis of Tweets ({now}) for {target}\")\n",
    "    plt.ylabel(\"Tweet Polarity\")\n",
    "    plt.xlabel(\"Tweets Ago\")\n",
    "    plt.legend(name,loc='upper left')\n",
    "    # plt.show()\n",
    "\n",
    "    plt.savefig(\"testoutput.png\")\n",
    "\n",
    "    # Create a status update\n",
    "    api.update_with_media(\"testoutput.png\",\n",
    "                          \"Are you.. talking to me?\")"
   ]
  },
  {
   "cell_type": "code",
   "execution_count": null,
   "metadata": {},
   "outputs": [],
   "source": []
  },
  {
   "cell_type": "code",
   "execution_count": null,
   "metadata": {},
   "outputs": [],
   "source": []
  },
  {
   "cell_type": "code",
   "execution_count": null,
   "metadata": {},
   "outputs": [],
   "source": []
  }
 ],
 "metadata": {
  "kernelspec": {
   "display_name": "Python 3",
   "language": "python",
   "name": "python3"
  },
  "language_info": {
   "codemirror_mode": {
    "name": "ipython",
    "version": 3
   },
   "file_extension": ".py",
   "mimetype": "text/x-python",
   "name": "python",
   "nbconvert_exporter": "python",
   "pygments_lexer": "ipython3",
   "version": "3.6.4"
  }
 },
 "nbformat": 4,
 "nbformat_minor": 2
}
